{
 "cells": [
  {
   "cell_type": "code",
   "execution_count": 2,
   "id": "ef4580d1",
   "metadata": {},
   "outputs": [
    {
     "name": "stdout",
     "output_type": "stream",
     "text": [
      "3600\n"
     ]
    }
   ],
   "source": [
    "#3.1\n",
    "minutes = 60\n",
    "hour = 60\n",
    "seconds_per_hour = minutes * hour\n",
    "print(seconds_per_hour)"
   ]
  },
  {
   "cell_type": "code",
   "execution_count": 3,
   "id": "7b58ca30",
   "metadata": {},
   "outputs": [
    {
     "name": "stdout",
     "output_type": "stream",
     "text": [
      "86400\n"
     ]
    }
   ],
   "source": [
    "seconds_per_day = seconds_per_hour * 24\n",
    "print(seconds_per_day)"
   ]
  },
  {
   "cell_type": "code",
   "execution_count": 9,
   "id": "ea61a31e",
   "metadata": {},
   "outputs": [
    {
     "name": "stdout",
     "output_type": "stream",
     "text": [
      "24.0\n"
     ]
    }
   ],
   "source": [
    "flt_days = seconds_per_day/seconds_per_hour\n",
    "print(flt_days)"
   ]
  },
  {
   "cell_type": "code",
   "execution_count": 8,
   "id": "a5ebb904",
   "metadata": {},
   "outputs": [
    {
     "name": "stdout",
     "output_type": "stream",
     "text": [
      "24\n"
     ]
    }
   ],
   "source": [
    "int_days = seconds_per_day//seconds_per_hour\n",
    "print(int_days)"
   ]
  },
  {
   "cell_type": "code",
   "execution_count": 10,
   "id": "1accc2b3",
   "metadata": {},
   "outputs": [
    {
     "data": {
      "text/plain": [
       "True"
      ]
     },
     "execution_count": 10,
     "metadata": {},
     "output_type": "execute_result"
    }
   ],
   "source": [
    "int_days == flt_days"
   ]
  },
  {
   "cell_type": "markdown",
   "id": "897ae086",
   "metadata": {},
   "source": [
    "Yes this does agree with the value from previous."
   ]
  },
  {
   "cell_type": "code",
   "execution_count": null,
   "id": "1f75aad3",
   "metadata": {},
   "outputs": [],
   "source": []
  }
 ],
 "metadata": {
  "kernelspec": {
   "display_name": "Python 3 (ipykernel)",
   "language": "python",
   "name": "python3"
  },
  "language_info": {
   "codemirror_mode": {
    "name": "ipython",
    "version": 3
   },
   "file_extension": ".py",
   "mimetype": "text/x-python",
   "name": "python",
   "nbconvert_exporter": "python",
   "pygments_lexer": "ipython3",
   "version": "3.11.5"
  }
 },
 "nbformat": 4,
 "nbformat_minor": 5
}
